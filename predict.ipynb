{
  "nbformat": 4,
  "nbformat_minor": 0,
  "metadata": {
    "colab": {
      "name": "predict.ipynb",
      "provenance": [],
      "authorship_tag": "ABX9TyOdMINRUQMghpyfIE6iGl5U",
      "include_colab_link": true
    },
    "kernelspec": {
      "name": "python3",
      "display_name": "Python 3"
    }
  },
  "cells": [
    {
      "cell_type": "markdown",
      "metadata": {
        "id": "view-in-github",
        "colab_type": "text"
      },
      "source": [
        "<a href=\"https://colab.research.google.com/github/vitaldb/planb/blob/main/predict.ipynb\" target=\"_parent\"><img src=\"https://colab.research.google.com/assets/colab-badge.svg\" alt=\"Open In Colab\"/></a>"
      ]
    },
    {
      "cell_type": "markdown",
      "metadata": {
        "id": "EVNIp6lwk5DD"
      },
      "source": [
        "# Prediction Model for Hepatocellular cardinoma in Hepatitis B patients"
      ]
    },
    {
      "cell_type": "markdown",
      "source": [
        "## Upgrade XGboost library"
      ],
      "metadata": {
        "id": "VOZ6R-8VNmCO"
      }
    },
    {
      "cell_type": "code",
      "metadata": {
        "id": "cHEggysIlr04",
        "colab": {
          "base_uri": "https://localhost:8080/",
          "height": 277
        },
        "outputId": "9e9d5be3-af99-47f8-ce13-a6601d9f3bd4"
      },
      "source": [
        "!pip uninstall xgboost -y\n",
        "!pip install xgboost"
      ],
      "execution_count": 6,
      "outputs": [
        {
          "output_type": "stream",
          "name": "stdout",
          "text": [
            "Found existing installation: xgboost 1.6.2\n",
            "Uninstalling xgboost-1.6.2:\n",
            "  Successfully uninstalled xgboost-1.6.2\n",
            "Looking in indexes: https://pypi.org/simple, https://us-python.pkg.dev/colab-wheels/public/simple/\n",
            "Collecting xgboost\n",
            "  Using cached xgboost-1.6.2-py3-none-manylinux2014_x86_64.whl (255.9 MB)\n",
            "Requirement already satisfied: numpy in /usr/local/lib/python3.7/dist-packages (from xgboost) (1.21.6)\n",
            "Requirement already satisfied: scipy in /usr/local/lib/python3.7/dist-packages (from xgboost) (1.7.3)\n",
            "Installing collected packages: xgboost\n",
            "Successfully installed xgboost-1.6.2\n"
          ]
        },
        {
          "output_type": "display_data",
          "data": {
            "application/vnd.colab-display-data+json": {
              "pip_warning": {
                "packages": [
                  "xgboost"
                ]
              }
            }
          },
          "metadata": {}
        }
      ]
    },
    {
      "cell_type": "markdown",
      "source": [
        "## Download model and sample files"
      ],
      "metadata": {
        "id": "O5PmN3NMNrXY"
      }
    },
    {
      "cell_type": "code",
      "source": [
        "!wget https://github.com/vitaldb/hbvhcc/raw/main/model.json\n",
        "!wget https://github.com/vitaldb/hbvhcc/raw/main/sample.csv"
      ],
      "metadata": {
        "colab": {
          "base_uri": "https://localhost:8080/"
        },
        "id": "4PuRpTXONvY_",
        "outputId": "3fc92a40-12a9-40cd-eaa2-5eaf4895e271"
      },
      "execution_count": 15,
      "outputs": [
        {
          "output_type": "stream",
          "name": "stdout",
          "text": [
            "--2022-11-24 15:33:10--  https://github.com/vitaldb/hbvhcc/raw/main/model.json\n",
            "Resolving github.com (github.com)... 20.27.177.113\n",
            "Connecting to github.com (github.com)|20.27.177.113|:443... connected.\n",
            "HTTP request sent, awaiting response... 301 Moved Permanently\n",
            "Location: https://github.com/vitaldb/planb/raw/main/model.json [following]\n",
            "--2022-11-24 15:33:10--  https://github.com/vitaldb/planb/raw/main/model.json\n",
            "Reusing existing connection to github.com:443.\n",
            "HTTP request sent, awaiting response... 302 Found\n",
            "Location: https://raw.githubusercontent.com/vitaldb/planb/main/model.json [following]\n",
            "--2022-11-24 15:33:10--  https://raw.githubusercontent.com/vitaldb/planb/main/model.json\n",
            "Resolving raw.githubusercontent.com (raw.githubusercontent.com)... 185.199.109.133, 185.199.110.133, 185.199.111.133, ...\n",
            "Connecting to raw.githubusercontent.com (raw.githubusercontent.com)|185.199.109.133|:443... connected.\n",
            "HTTP request sent, awaiting response... 200 OK\n",
            "Length: 60814 (59K) [text/plain]\n",
            "Saving to: ‘model.json’\n",
            "\n",
            "model.json          100%[===================>]  59.39K  --.-KB/s    in 0.01s   \n",
            "\n",
            "2022-11-24 15:33:10 (4.01 MB/s) - ‘model.json’ saved [60814/60814]\n",
            "\n",
            "--2022-11-24 15:33:10--  https://github.com/vitaldb/hbvhcc/raw/main/sample.csv\n",
            "Resolving github.com (github.com)... 20.27.177.113\n",
            "Connecting to github.com (github.com)|20.27.177.113|:443... connected.\n",
            "HTTP request sent, awaiting response... 301 Moved Permanently\n",
            "Location: https://github.com/vitaldb/planb/raw/main/sample.csv [following]\n",
            "--2022-11-24 15:33:11--  https://github.com/vitaldb/planb/raw/main/sample.csv\n",
            "Reusing existing connection to github.com:443.\n",
            "HTTP request sent, awaiting response... 302 Found\n",
            "Location: https://raw.githubusercontent.com/vitaldb/planb/main/sample.csv [following]\n",
            "--2022-11-24 15:33:11--  https://raw.githubusercontent.com/vitaldb/planb/main/sample.csv\n",
            "Resolving raw.githubusercontent.com (raw.githubusercontent.com)... 185.199.108.133, 185.199.109.133, 185.199.110.133, ...\n",
            "Connecting to raw.githubusercontent.com (raw.githubusercontent.com)|185.199.108.133|:443... connected.\n",
            "HTTP request sent, awaiting response... 200 OK\n",
            "Length: 411 [text/plain]\n",
            "Saving to: ‘sample.csv’\n",
            "\n",
            "sample.csv          100%[===================>]     411  --.-KB/s    in 0s      \n",
            "\n",
            "2022-11-24 15:33:12 (12.8 MB/s) - ‘sample.csv’ saved [411/411]\n",
            "\n"
          ]
        }
      ]
    },
    {
      "cell_type": "markdown",
      "source": [
        "## Sample code for single patient\n",
        "\n"
      ],
      "metadata": {
        "id": "UtZFeTVjNCD3"
      }
    },
    {
      "cell_type": "code",
      "metadata": {
        "id": "c8eh2Sx6k21M",
        "colab": {
          "base_uri": "https://localhost:8080/"
        },
        "outputId": "bf81bb5d-2a2b-4ebc-d9fc-7803fbffae41"
      },
      "source": [
        "import xgboost as xgb\n",
        "import numpy as np\n",
        "\n",
        "# sample values\n",
        "male = 0\n",
        "age = 48\n",
        "e_t = 1\n",
        "lc = 1  # None for missing value\n",
        "plt = 172\n",
        "alb = 4.1\n",
        "tbil = 1.1\n",
        "alt = 122\n",
        "dna = 74279943\n",
        "hbeag = 1\n",
        "\n",
        "model = xgb.Booster()\n",
        "model.load_model('model.json')\n",
        "x = np.array([male, age, e_t, lc, plt, alb, tbil, alt, dna, hbeag]).astype(float)\n",
        "x = x[None, ...]\n",
        "x = xgb.DMatrix(x)\n",
        "y = model.predict(x)[0]\n",
        "\n",
        "print('score = {:.3f}'.format(y))"
      ],
      "execution_count": 16,
      "outputs": [
        {
          "output_type": "stream",
          "name": "stdout",
          "text": [
            "score = 0.196\n"
          ]
        }
      ]
    },
    {
      "cell_type": "markdown",
      "source": [
        "## Sample code using CSV file for multiple patients "
      ],
      "metadata": {
        "id": "MQqfAf4-NPOr"
      }
    },
    {
      "cell_type": "code",
      "source": [
        "import xgboost as xgb\n",
        "import numpy as np\n",
        "import pandas as pd\n",
        "\n",
        "model = xgb.Booster()\n",
        "model.load_model('model.json')\n",
        "\n",
        "df = pd.read_csv('sample.csv')\n",
        "x = df[['male', 'age', 'e_t', 'lc', 'plt', 'alb', 'tbil', 'alt', 'dna', 'hbeag']].astype(float).values\n",
        "df['pred'] = model.predict(xgb.DMatrix(x))\n",
        "df.to_csv('prediction.csv')\n",
        "print(df)"
      ],
      "metadata": {
        "colab": {
          "base_uri": "https://localhost:8080/"
        },
        "id": "iEffyN41OqSe",
        "outputId": "0e19d3f3-d42b-45b4-ab50-5d3096df81f6"
      },
      "execution_count": 17,
      "outputs": [
        {
          "output_type": "stream",
          "name": "stdout",
          "text": [
            "   no  male  age  e_t  lc  plt  alb  tbil  alt        dna  hbeag      pred\n",
            "0   1     1   33    0   0  167  4.4   1.1   84  170000000      1  0.095564\n",
            "1   2     0   56    0   0  168  3.6   0.7  223    7990000      1  0.163563\n",
            "2   3     0   62    1   1  164  4.3   0.5  104       6080      0  0.286515\n",
            "3   4     1   46    1   0  317  4.3   0.7   66      45100      0  0.095078\n",
            "4   5     1   54    1   1  122  4.6   1.3  147   12500000      0  0.412359\n",
            "5   6     1   30    0   0  198  4.4   1.4  955  170000000      1  0.057932\n",
            "6   7     1   48    0   1  111  4.2   1.3   95     262000      0  0.630031\n",
            "7   8     0   58    1   1  138  4.3   0.7   45      17100      0  0.355294\n",
            "8   9     0   50    0   1  154  4.2   1.0   61     790000      0  0.450027\n",
            "9  10     0   65    0   0  187  4.6   0.6   23          0      0  0.201603\n"
          ]
        }
      ]
    }
  ]
}